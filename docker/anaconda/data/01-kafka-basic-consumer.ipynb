{
 "cells": [
  {
   "cell_type": "markdown",
   "metadata": {},
   "source": [
    "# MBIT School\n",
    "\n",
    "## Master Big Data Cloud y Analytics\n",
    "\n",
    "---\n",
    "\n",
    "## Módulo 2: Ecosistema Spark\n",
    "## Submódulo DC02: Ecosistema Spark\n",
    "\n",
    "---\n",
    "\n",
    "### Taller Spark + Kafka: Consumidor Python\n",
    "\n",
    "#### Jacinto Arias (arias.jacinto@gmail.com)\n",
    "\n",
    "---\n"
   ]
  },
  {
   "cell_type": "markdown",
   "metadata": {},
   "source": [
    "### Carga de la libreria"
   ]
  },
  {
   "cell_type": "code",
   "execution_count": 1,
   "metadata": {},
   "outputs": [],
   "source": [
    "from confluent_kafka import Consumer"
   ]
  },
  {
   "cell_type": "markdown",
   "metadata": {},
   "source": [
    "### Consumo desde stream local"
   ]
  },
  {
   "cell_type": "code",
   "execution_count": 2,
   "metadata": {},
   "outputs": [],
   "source": [
    "c = Consumer({\n",
    "    'bootstrap.servers': 'kafka:9092',\n",
    "    'group.id': 'mygroup'\n",
    "})\n",
    "\n",
    "c.subscribe(['test'])"
   ]
  },
  {
   "cell_type": "code",
   "execution_count": null,
   "metadata": {},
   "outputs": [],
   "source": [
    "while True:\n",
    "    \n",
    "    msg = c.poll(1.0)\n",
    "\n",
    "    if msg is None:\n",
    "        continue\n",
    "\n",
    "    print(msg.value().decode('utf-8'))\n",
    "\n"
   ]
  },
  {
   "cell_type": "code",
   "execution_count": null,
   "metadata": {},
   "outputs": [],
   "source": [
    "c.close()"
   ]
  },
  {
   "cell_type": "markdown",
   "metadata": {},
   "source": [
    "### Consumo desde stream remoto"
   ]
  },
  {
   "cell_type": "code",
   "execution_count": null,
   "metadata": {},
   "outputs": [],
   "source": [
    "topics = [\"ium9krx3-default\"]\n",
    "\n",
    "\n",
    "conf = {\n",
    "    'bootstrap.servers': \"ark-01.srvs.cloudkafka.com:9094,ark-02.srvs.cloudkafka.com:9094,ark-03.srvs.cloudkafka.com:9094\",\n",
    "    'group.id': \"test-1\",\n",
    "    'security.protocol': 'SASL_SSL',\n",
    "    'sasl.mechanisms': 'SCRAM-SHA-256',\n",
    "    'sasl.username': \"ium9krx3\",\n",
    "    'sasl.password': \"LasQo6sLaURTlQQPxWdvlnXanMgF7TiA\"\n",
    "}\n",
    "\n",
    "\n",
    "c = Consumer(conf)\n",
    "c.subscribe(topics)\n",
    "\n",
    "while True:\n",
    "    \n",
    "    msg = c.poll(1.0)\n",
    "\n",
    "    if msg is None:\n",
    "        continue\n",
    "        \n",
    "    if msg is None:\n",
    "        continue\n",
    "\n",
    "    print(msg.value().decode('utf-8'))\n",
    "    \n",
    "c.close()"
   ]
  },
  {
   "cell_type": "code",
   "execution_count": null,
   "metadata": {},
   "outputs": [],
   "source": []
  }
 ],
 "metadata": {
  "kernelspec": {
   "display_name": "Python 3",
   "language": "python",
   "name": "python3"
  },
  "language_info": {
   "codemirror_mode": {
    "name": "ipython",
    "version": 3
   },
   "file_extension": ".py",
   "mimetype": "text/x-python",
   "name": "python",
   "nbconvert_exporter": "python",
   "pygments_lexer": "ipython3",
   "version": "3.7.4"
  }
 },
 "nbformat": 4,
 "nbformat_minor": 2
}
