{
 "cells": [
  {
   "cell_type": "markdown",
   "metadata": {},
   "source": [
    "# MBIT School\n",
    "\n",
    "## Master Big Data Cloud y Analytics\n",
    "\n",
    "---\n",
    "\n",
    "## Módulo 2: Ecosistema Spark\n",
    "## Submódulo DC02: Ecosistema Spark\n",
    "\n",
    "---\n",
    "\n",
    "### Taller Spark + Kafka: Interfaz de usuario (ids/productor)\n",
    "\n",
    "#### Jacinto Arias (arias.jacinto@gmail.com)\n",
    "\n",
    "---\n"
   ]
  },
  {
   "cell_type": "markdown",
   "metadata": {},
   "source": [
    "En esta libreta implementaremos un pequeño prototipo de interfaz que envie mensajes al stream. Modelaremos para ello las transacciones de una cuenta bancaria, donde un usuario podrá depositar o retirar cantidades.\n",
    "\n",
    "En esta versión utilizamos las particiones de kafka añadiendo una clave a los mensajes y añadiremos también un ID de correlación a todos los eventos."
   ]
  },
  {
   "cell_type": "markdown",
   "metadata": {},
   "source": [
    "#### Imports"
   ]
  },
  {
   "cell_type": "code",
   "execution_count": 1,
   "metadata": {},
   "outputs": [],
   "source": [
    "# Python\n",
    "import json\n",
    "import datetime\n",
    "import uuid"
   ]
  },
  {
   "cell_type": "code",
   "execution_count": 2,
   "metadata": {},
   "outputs": [],
   "source": [
    "# jupyter\n",
    "import ipywidgets as widgets\n",
    "from IPython.display import display, clear_output"
   ]
  },
  {
   "cell_type": "code",
   "execution_count": 3,
   "metadata": {},
   "outputs": [],
   "source": [
    "# kafka\n",
    "from confluent_kafka import Producer, Consumer"
   ]
  },
  {
   "cell_type": "markdown",
   "metadata": {},
   "source": [
    "#### Constantes"
   ]
  },
  {
   "cell_type": "code",
   "execution_count": 4,
   "metadata": {},
   "outputs": [],
   "source": [
    "KAFKA_BOOTSTRAP_SERVERS = \"34.246.163.140:9092\""
   ]
  },
  {
   "cell_type": "code",
   "execution_count": 5,
   "metadata": {},
   "outputs": [],
   "source": [
    "KAFKA_TOPIC_TRANSACTIONS = \"fake_bank.transactions\""
   ]
  },
  {
   "cell_type": "markdown",
   "metadata": {},
   "source": [
    "#### Productor"
   ]
  },
  {
   "cell_type": "code",
   "execution_count": 6,
   "metadata": {},
   "outputs": [],
   "source": [
    "kafka_producer = Producer({\n",
    "    'bootstrap.servers': KAFKA_BOOTSTRAP_SERVERS\n",
    "})"
   ]
  },
  {
   "cell_type": "code",
   "execution_count": 7,
   "metadata": {},
   "outputs": [],
   "source": [
    "def transaction(account, operation, amount):\n",
    "    kafka_producer.poll(0)\n",
    "    \n",
    "    data = {\n",
    "        \"transaction_id\": str(uuid.uuid4()),\n",
    "        \"account\": account,\n",
    "        \"timestamp\": datetime.datetime.timestamp(datetime.datetime.utcnow()),\n",
    "        \"operation\": operation,\n",
    "        \"amount\": amount\n",
    "    }\n",
    "    \n",
    "    payload = json.dumps(data).encode(\"utf-8\")\n",
    "    key = account.encode(\"utf-8\")\n",
    "    \n",
    "    kafka_producer.produce(KAFKA_TOPIC_TRANSACTIONS, payload, key=key)"
   ]
  },
  {
   "cell_type": "markdown",
   "metadata": {},
   "source": [
    "#### UI"
   ]
  },
  {
   "cell_type": "code",
   "execution_count": 8,
   "metadata": {},
   "outputs": [],
   "source": [
    "# USER\n",
    "text_account = widgets.Text(\"account_name\")\n",
    "\n",
    "# DEPOSIT\n",
    "slider_deposit = widgets.IntSlider(value=10, min=10, max=100, step=10)\n",
    "button_deposit = widgets.Button(description=\"Deposit\")\n",
    "button_deposit.unobserve_all()\n",
    "button_deposit.on_click(lambda _: transaction(\n",
    "    account=text_account.value, operation=\"DEPOSIT\", amount=slider_deposit.value))\n",
    "\n",
    "# WITHDRAW\n",
    "slider_withdraw = widgets.IntSlider(value=10, min=10, max=100, step=10)\n",
    "button_withdraw = widgets.Button(description=\"Withdraw\")\n",
    "button_withdraw.unobserve_all()\n",
    "button_withdraw.on_click(lambda _: transaction(\n",
    "    account=text_account.value, operation=\"WITHDRAWAL\", amount=-slider_withdraw.value))"
   ]
  },
  {
   "cell_type": "code",
   "execution_count": 9,
   "metadata": {},
   "outputs": [
    {
     "data": {
      "application/vnd.jupyter.widget-view+json": {
       "model_id": "b618c70bc6a14d88bdfbcffed363f455",
       "version_major": 2,
       "version_minor": 0
      },
      "text/plain": [
       "Text(value='account_name')"
      ]
     },
     "metadata": {},
     "output_type": "display_data"
    }
   ],
   "source": [
    "text_account"
   ]
  },
  {
   "cell_type": "code",
   "execution_count": 10,
   "metadata": {},
   "outputs": [
    {
     "data": {
      "application/vnd.jupyter.widget-view+json": {
       "model_id": "f967758573d8416880e367c88f78004a",
       "version_major": 2,
       "version_minor": 0
      },
      "text/plain": [
       "IntSlider(value=10, min=10, step=10)"
      ]
     },
     "metadata": {},
     "output_type": "display_data"
    },
    {
     "data": {
      "application/vnd.jupyter.widget-view+json": {
       "model_id": "1ab8e18a039c4cfc84883e0a288f468e",
       "version_major": 2,
       "version_minor": 0
      },
      "text/plain": [
       "Button(description='Deposit', style=ButtonStyle())"
      ]
     },
     "metadata": {},
     "output_type": "display_data"
    }
   ],
   "source": [
    "display(slider_deposit)\n",
    "display(button_deposit)"
   ]
  },
  {
   "cell_type": "code",
   "execution_count": 11,
   "metadata": {},
   "outputs": [
    {
     "data": {
      "application/vnd.jupyter.widget-view+json": {
       "model_id": "facc81c25a6749f38de3bf618b9967b5",
       "version_major": 2,
       "version_minor": 0
      },
      "text/plain": [
       "IntSlider(value=10, min=10, step=10)"
      ]
     },
     "metadata": {},
     "output_type": "display_data"
    },
    {
     "data": {
      "application/vnd.jupyter.widget-view+json": {
       "model_id": "e1fd8fe1cf0748d6b7ec27408dbb8d1d",
       "version_major": 2,
       "version_minor": 0
      },
      "text/plain": [
       "Button(description='Withdraw', style=ButtonStyle())"
      ]
     },
     "metadata": {},
     "output_type": "display_data"
    }
   ],
   "source": [
    "display(slider_withdraw)\n",
    "display(button_withdraw)"
   ]
  },
  {
   "cell_type": "code",
   "execution_count": null,
   "metadata": {},
   "outputs": [],
   "source": []
  }
 ],
 "metadata": {
  "kernelspec": {
   "display_name": "Python 3",
   "language": "python",
   "name": "python3"
  },
  "language_info": {
   "codemirror_mode": {
    "name": "ipython",
    "version": 3
   },
   "file_extension": ".py",
   "mimetype": "text/x-python",
   "name": "python",
   "nbconvert_exporter": "python",
   "pygments_lexer": "ipython3",
   "version": "3.7.4"
  }
 },
 "nbformat": 4,
 "nbformat_minor": 2
}
