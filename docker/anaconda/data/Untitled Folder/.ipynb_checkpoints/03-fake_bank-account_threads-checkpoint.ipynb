{
 "cells": [
  {
   "cell_type": "markdown",
   "metadata": {},
   "source": [
    "# MBIT School\n",
    "\n",
    "## Master Big Data Cloud y Analytics\n",
    "\n",
    "---\n",
    "\n",
    "## Módulo 2: Ecosistema Spark\n",
    "## Submódulo DC02: Ecosistema Spark\n",
    "\n",
    "---\n",
    "\n",
    "### Taller Spark + Kafka: Gestor de cuentas (multithread/consumidor)\n",
    "\n",
    "#### Jacinto Arias (arias.jacinto@gmail.com)\n",
    "\n",
    "---\n"
   ]
  },
  {
   "cell_type": "markdown",
   "metadata": {},
   "source": [
    "En esta libreta implementaremos un proceso consumidor de kafka que procesará los mensajes del stream y mantendrá actualizada el estado de una \"supuesta base de datos\" con los totales de la cuenta conforme hayamos procesado los mensajes.. Esta libreta implementa un consumidor en paralelo que permite aprovechar el paralelismo de un cluster de kafka"
   ]
  },
  {
   "cell_type": "markdown",
   "metadata": {},
   "source": [
    "#### Imports"
   ]
  },
  {
   "cell_type": "code",
   "execution_count": null,
   "metadata": {},
   "outputs": [],
   "source": [
    "# python\n",
    "from collections import defaultdict\n",
    "import json\n",
    "import threading"
   ]
  },
  {
   "cell_type": "code",
   "execution_count": null,
   "metadata": {},
   "outputs": [],
   "source": [
    "# jupyter\n",
    "import ipywidgets as widgets\n",
    "from IPython.display import display, clear_output"
   ]
  },
  {
   "cell_type": "code",
   "execution_count": null,
   "metadata": {},
   "outputs": [],
   "source": [
    "# kafka\n",
    "\n",
    "from confluent_kafka import Producer, Consumer"
   ]
  },
  {
   "cell_type": "markdown",
   "metadata": {},
   "source": [
    "#### Constantes"
   ]
  },
  {
   "cell_type": "code",
   "execution_count": null,
   "metadata": {},
   "outputs": [],
   "source": [
    "KAFKA_BOOTSTRAP_SERVERS = \"localhost:9092\""
   ]
  },
  {
   "cell_type": "code",
   "execution_count": null,
   "metadata": {},
   "outputs": [],
   "source": [
    "KAFKA_CONSUMER_GROUP = \"fake_bank.account_manager\"\n",
    "KAFKA_TOPIC_TRANSACTIONS = \"fake_bank.transactions\""
   ]
  },
  {
   "cell_type": "markdown",
   "metadata": {},
   "source": [
    "#### Hilo Consumidor \n",
    "\n",
    "Este sistema nos permite lanzar aplicaciones multihilo en python"
   ]
  },
  {
   "cell_type": "code",
   "execution_count": null,
   "metadata": {},
   "outputs": [],
   "source": [
    "class ConsumerThread(threading.Thread):\n",
    "    \n",
    "    def __init__(self, out):\n",
    "        super(ConsumerThread, self).__init__()\n",
    "        \n",
    "        self.out = out\n",
    "        \n",
    "        self.kafka_consumer = Consumer({\n",
    "            'bootstrap.servers': KAFKA_BOOTSTRAP_SERVERS,\n",
    "            'group.id': KAFKA_CONSUMER_GROUP\n",
    "        })\n",
    "            \n",
    "        self.account_db = defaultdict(int)\n",
    "\n",
    "        self.kafka_consumer.subscribe([KAFKA_TOPIC_TRANSACTIONS])\n",
    "\n",
    "        self.active = True\n",
    "        \n",
    "        \n",
    "    def run(self):\n",
    "        while self.active:\n",
    "\n",
    "            transaction = self.kafka_consumer.poll(1.0)\n",
    "\n",
    "            if transaction is None:\n",
    "                continue\n",
    "\n",
    "            payload = transaction.value().decode('utf-8')\n",
    "            data = json.loads(payload)\n",
    "\n",
    "            self.account_db[data[\"account\"]] += data[\"amount\"]        \n",
    "            self.out.clear_output()\n",
    "            self.out.append_display_data(self.account_db)\n",
    "\n",
    "        self.kafka_consumer.close()\n",
    "        \n",
    "        \n",
    "    def stop(self):\n",
    "        self.active = False\n",
    "        "
   ]
  },
  {
   "cell_type": "markdown",
   "metadata": {},
   "source": [
    "#### Creacion de hilos y salidas\n",
    "\n",
    "Utilizaremos múltiples salidas en nuestros hilos para verlos por separado"
   ]
  },
  {
   "cell_type": "code",
   "execution_count": null,
   "metadata": {},
   "outputs": [],
   "source": [
    "out_1 = widgets.Output()\n",
    "out_2 = widgets.Output()\n",
    "out_3 = widgets.Output()\n",
    "\n",
    "consumer_1 = ConsumerThread(out_1)\n",
    "consumer_1.start()\n",
    "\n",
    "consumer_2 = ConsumerThread(out_2)\n",
    "consumer_2.start()\n",
    "\n",
    "\n",
    "consumer_3 = ConsumerThread(out_3)\n",
    "consumer_3.start()"
   ]
  },
  {
   "cell_type": "code",
   "execution_count": null,
   "metadata": {},
   "outputs": [],
   "source": [
    "display(out_1)"
   ]
  },
  {
   "cell_type": "code",
   "execution_count": null,
   "metadata": {},
   "outputs": [],
   "source": [
    "display(out_2)"
   ]
  },
  {
   "cell_type": "code",
   "execution_count": null,
   "metadata": {},
   "outputs": [],
   "source": [
    "display(out_3)"
   ]
  },
  {
   "cell_type": "markdown",
   "metadata": {},
   "source": [
    "#### Importante apagar los hilos!!!"
   ]
  },
  {
   "cell_type": "code",
   "execution_count": null,
   "metadata": {},
   "outputs": [],
   "source": [
    "consumer_1.stop()\n",
    "consumer_2.stop()\n",
    "consumer_3.stop()"
   ]
  },
  {
   "cell_type": "code",
   "execution_count": null,
   "metadata": {},
   "outputs": [],
   "source": []
  }
 ],
 "metadata": {
  "kernelspec": {
   "display_name": "Python 3",
   "language": "python",
   "name": "python3"
  },
  "language_info": {
   "codemirror_mode": {
    "name": "ipython",
    "version": 3
   },
   "file_extension": ".py",
   "mimetype": "text/x-python",
   "name": "python",
   "nbconvert_exporter": "python",
   "pygments_lexer": "ipython3",
   "version": "3.6.7"
  }
 },
 "nbformat": 4,
 "nbformat_minor": 2
}
