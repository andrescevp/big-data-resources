{
 "cells": [
  {
   "cell_type": "markdown",
   "metadata": {},
   "source": [
    "# MBIT School\n",
    "\n",
    "## Master Big Data Cloud y Analytics\n",
    "\n",
    "---\n",
    "\n",
    "## Módulo 2: Ecosistema Spark\n",
    "## Submódulo DC02: Ecosistema Spark\n",
    "\n",
    "---\n",
    "\n",
    "### Taller Spark + Kafka: Tutorial Multithreading\n",
    "\n",
    "#### Jacinto Arias (arias.jacinto@gmail.com)\n",
    "\n",
    "---\n"
   ]
  },
  {
   "cell_type": "code",
   "execution_count": null,
   "metadata": {},
   "outputs": [],
   "source": [
    "import threading\n",
    "import time\n",
    "import ipywidgets as widgets\n",
    "from IPython.display import display, clear_output"
   ]
  },
  {
   "cell_type": "markdown",
   "metadata": {},
   "source": [
    "### Ejemplo mínimo multithreading"
   ]
  },
  {
   "cell_type": "code",
   "execution_count": null,
   "metadata": {},
   "outputs": [],
   "source": [
    "class ExampleEchoThread(threading.Thread):\n",
    "    \n",
    "    def __init__(self, thread_name):\n",
    "        super(ExampleEchoThread, self).__init__()\n",
    "        \n",
    "        self.thread_name = thread_name\n",
    "        self.active = True\n",
    "        \n",
    "        \n",
    "    def run(self):\n",
    "        while self.active:\n",
    "            print(f\"Hello I am {self.thread_name}\")\n",
    "            time.sleep(1)\n",
    "        \n",
    "    def stop(self):\n",
    "        self.active = False\n",
    "        "
   ]
  },
  {
   "cell_type": "code",
   "execution_count": null,
   "metadata": {},
   "outputs": [],
   "source": [
    "thread_one = ExampleEchoThread(\"Thread 1\")\n",
    "thread_one.start()\n",
    "\n",
    "thread_two = ExampleEchoThread(\"Thread 2\")\n",
    "thread_two.start()\n",
    "\n",
    "thread_three = ExampleEchoThread(\"Thread 3\")\n",
    "thread_three.start()"
   ]
  },
  {
   "cell_type": "code",
   "execution_count": null,
   "metadata": {},
   "outputs": [],
   "source": [
    "thread_one.stop()"
   ]
  },
  {
   "cell_type": "code",
   "execution_count": null,
   "metadata": {},
   "outputs": [],
   "source": [
    "thread_two.stop()"
   ]
  },
  {
   "cell_type": "code",
   "execution_count": null,
   "metadata": {},
   "outputs": [],
   "source": [
    "thread_three.stop()"
   ]
  },
  {
   "cell_type": "markdown",
   "metadata": {},
   "source": [
    "### Ejemplo  multithreading salida controlada"
   ]
  },
  {
   "cell_type": "code",
   "execution_count": null,
   "metadata": {},
   "outputs": [],
   "source": [
    "class ExampleEchoOutThread(threading.Thread):\n",
    "    \n",
    "    def __init__(self, out, thread_name):\n",
    "        super(ExampleEchoOutThread, self).__init__()\n",
    "        \n",
    "        self.out = out\n",
    "        self.thread_name = thread_name\n",
    "        self.active = True\n",
    "        \n",
    "        \n",
    "    def run(self):\n",
    "        while self.active: \n",
    "            \n",
    "            self.out.append_display_data(f\"Hello I am {self.thread_name}\")\n",
    "            time.sleep(2)\n",
    "\n",
    "        \n",
    "    def stop(self):\n",
    "        self.active = False\n",
    "        "
   ]
  },
  {
   "cell_type": "code",
   "execution_count": null,
   "metadata": {},
   "outputs": [],
   "source": [
    "out_1 = widgets.Output()\n",
    "out_2 = widgets.Output()\n",
    "out_3 = widgets.Output()\n",
    "\n",
    "thread_one = ExampleEchoOutThread(out_1, \"Thread 1\")\n",
    "thread_one.start()\n",
    "\n",
    "thread_two = ExampleEchoOutThread(out_2, \"Thread 2\")\n",
    "thread_two.start()\n",
    "\n",
    "thread_three = ExampleEchoOutThread(out_3, \"Thread 3\")\n",
    "thread_three.start()"
   ]
  },
  {
   "cell_type": "code",
   "execution_count": null,
   "metadata": {},
   "outputs": [],
   "source": [
    "display(out_1)"
   ]
  },
  {
   "cell_type": "code",
   "execution_count": null,
   "metadata": {},
   "outputs": [],
   "source": [
    "display(out_2)"
   ]
  },
  {
   "cell_type": "code",
   "execution_count": null,
   "metadata": {},
   "outputs": [],
   "source": [
    "display(out_3)"
   ]
  },
  {
   "cell_type": "code",
   "execution_count": null,
   "metadata": {},
   "outputs": [],
   "source": [
    "thread_one.stop()"
   ]
  },
  {
   "cell_type": "code",
   "execution_count": null,
   "metadata": {},
   "outputs": [],
   "source": [
    "thread_two.stop()"
   ]
  },
  {
   "cell_type": "code",
   "execution_count": null,
   "metadata": {},
   "outputs": [],
   "source": [
    "thread_three.stop()"
   ]
  },
  {
   "cell_type": "code",
   "execution_count": null,
   "metadata": {},
   "outputs": [],
   "source": []
  }
 ],
 "metadata": {
  "kernelspec": {
   "display_name": "Python 3",
   "language": "python",
   "name": "python3"
  },
  "language_info": {
   "codemirror_mode": {
    "name": "ipython",
    "version": 3
   },
   "file_extension": ".py",
   "mimetype": "text/x-python",
   "name": "python",
   "nbconvert_exporter": "python",
   "pygments_lexer": "ipython3",
   "version": "3.6.7"
  }
 },
 "nbformat": 4,
 "nbformat_minor": 2
}
