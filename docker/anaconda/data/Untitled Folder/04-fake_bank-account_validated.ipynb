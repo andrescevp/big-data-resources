{
 "cells": [
  {
   "cell_type": "markdown",
   "metadata": {},
   "source": [
    "# MBIT School\n",
    "\n",
    "## Master Big Data Cloud y Analytics\n",
    "\n",
    "---\n",
    "\n",
    "## Módulo 2: Ecosistema Spark\n",
    "## Submódulo DC02: Ecosistema Spark\n",
    "\n",
    "---\n",
    "\n",
    "### Taller Spark + Kafka: Gestor de cuentas (multiple topic/consumidor)\n",
    "\n",
    "#### Jacinto Arias (arias.jacinto@gmail.com)\n",
    "\n",
    "---\n"
   ]
  },
  {
   "cell_type": "markdown",
   "metadata": {},
   "source": [
    "En esta libreta implementaremos un proceso consumidor de kafka que procesará los mensajes del stream y mantendrá actualizada el estado de una \"supuesta base de datos\" con los totales de la cuenta conforme hayamos procesado los mensajes.\n",
    "\n",
    "En esta libreta ejecutaremos dos consumidores, uno para actualizar las cuentas de los usuarios y otro para mostrar las alertas de las transacciones fallidas."
   ]
  },
  {
   "cell_type": "markdown",
   "metadata": {},
   "source": [
    "#### Imports"
   ]
  },
  {
   "cell_type": "code",
   "execution_count": 1,
   "metadata": {},
   "outputs": [],
   "source": [
    "# python\n",
    "from collections import defaultdict\n",
    "import json\n",
    "import threading"
   ]
  },
  {
   "cell_type": "code",
   "execution_count": 2,
   "metadata": {},
   "outputs": [],
   "source": [
    "# jupyter\n",
    "import ipywidgets as widgets\n",
    "from IPython.display import display, clear_output"
   ]
  },
  {
   "cell_type": "code",
   "execution_count": 3,
   "metadata": {},
   "outputs": [],
   "source": [
    "# kafka\n",
    "\n",
    "from confluent_kafka import Producer, Consumer"
   ]
  },
  {
   "cell_type": "markdown",
   "metadata": {},
   "source": [
    "#### Constantes"
   ]
  },
  {
   "cell_type": "code",
   "execution_count": 4,
   "metadata": {},
   "outputs": [],
   "source": [
    "KAFKA_BOOTSTRAP_SERVERS = \"34.246.163.140:9092\""
   ]
  },
  {
   "cell_type": "code",
   "execution_count": 5,
   "metadata": {},
   "outputs": [],
   "source": [
    "KAFKA_CONSUMER_GROUP = \"fake_bank.account_manager\"\n",
    "KAFKA_TOPIC_ALERTS = \"fake_bank.alerts\"\n",
    "KAFKA_TOPIC_TRANSACTIONS_VALIDATED = \"fake_bank.transactions_validated\""
   ]
  },
  {
   "cell_type": "markdown",
   "metadata": {},
   "source": [
    "#### Hilo Consumidor "
   ]
  },
  {
   "cell_type": "code",
   "execution_count": 6,
   "metadata": {},
   "outputs": [],
   "source": [
    "class ConsumerTransactionsThread(threading.Thread):\n",
    "    \n",
    "    def __init__(self, out):\n",
    "        super(ConsumerTransactionsThread, self).__init__()\n",
    "        \n",
    "        self.out = out\n",
    "        \n",
    "        self.kafka_consumer = Consumer({\n",
    "            'bootstrap.servers': KAFKA_BOOTSTRAP_SERVERS,\n",
    "            'group.id': KAFKA_CONSUMER_GROUP\n",
    "        })\n",
    "            \n",
    "        self.account_db = defaultdict(int)\n",
    "\n",
    "        self.kafka_consumer.subscribe([KAFKA_TOPIC_TRANSACTIONS_VALIDATED])\n",
    "\n",
    "        self.active = True\n",
    "        \n",
    "        \n",
    "    def run(self):\n",
    "        while self.active:\n",
    "\n",
    "            transaction = self.kafka_consumer.poll(1.0)\n",
    "\n",
    "            if transaction is None:\n",
    "                continue\n",
    "\n",
    "            payload = transaction.value().decode('utf-8')\n",
    "            data = json.loads(payload)\n",
    "\n",
    "            self.account_db[data[\"account\"]] += data[\"amount\"]        \n",
    "            self.out.clear_output()\n",
    "            self.out.append_display_data(self.account_db)\n",
    "\n",
    "        self.kafka_consumer.close()\n",
    "        \n",
    "        \n",
    "    def stop(self):\n",
    "        self.active = False\n",
    "        "
   ]
  },
  {
   "cell_type": "code",
   "execution_count": 7,
   "metadata": {},
   "outputs": [],
   "source": [
    "class ConsumerAlertsThread(threading.Thread):\n",
    "    \n",
    "    def __init__(self, out):\n",
    "        super(ConsumerAlertsThread, self).__init__()\n",
    "        \n",
    "        self.out = out\n",
    "        \n",
    "        self.kafka_consumer = Consumer({\n",
    "            'bootstrap.servers': KAFKA_BOOTSTRAP_SERVERS,\n",
    "            'group.id': KAFKA_CONSUMER_GROUP\n",
    "        })\n",
    "\n",
    "        self.kafka_consumer.subscribe([KAFKA_TOPIC_ALERTS])\n",
    "\n",
    "        self.active = True\n",
    "        \n",
    "        \n",
    "    def run(self):\n",
    "        while self.active:\n",
    "\n",
    "            alert = self.kafka_consumer.poll(1.0)\n",
    "\n",
    "            if alert is None:\n",
    "                continue\n",
    "\n",
    "            payload = alert.value().decode('utf-8')\n",
    "            data = json.loads(payload)\n",
    "       \n",
    "            self.out.append_display_data(f\"Alert for account {data['account']}\")\n",
    "\n",
    "        self.kafka_consumer.close()\n",
    "        \n",
    "        \n",
    "    def stop(self):\n",
    "        self.active = False\n",
    "        "
   ]
  },
  {
   "cell_type": "markdown",
   "metadata": {},
   "source": [
    "#### Creacion de hilos y salidas"
   ]
  },
  {
   "cell_type": "code",
   "execution_count": 8,
   "metadata": {},
   "outputs": [],
   "source": [
    "out_transactions = widgets.Output()\n",
    "out_alerts = widgets.Output()\n",
    "\n",
    "consumer_transactions = ConsumerTransactionsThread(out_transactions)\n",
    "consumer_transactions.start()\n",
    "\n",
    "consumer_alerts = ConsumerAlertsThread(out_alerts)\n",
    "consumer_alerts.start()"
   ]
  },
  {
   "cell_type": "code",
   "execution_count": 14,
   "metadata": {},
   "outputs": [
    {
     "data": {
      "application/vnd.jupyter.widget-view+json": {
       "model_id": "4a0a2d6c798645d490c31e97d70524b9",
       "version_major": 2,
       "version_minor": 0
      },
      "text/plain": [
       "Output()"
      ]
     },
     "metadata": {},
     "output_type": "display_data"
    }
   ],
   "source": [
    "display(out_transactions)"
   ]
  },
  {
   "cell_type": "code",
   "execution_count": 16,
   "metadata": {},
   "outputs": [
    {
     "data": {
      "application/vnd.jupyter.widget-view+json": {
       "model_id": "1963946b0466449b8594f670a9fb8b83",
       "version_major": 2,
       "version_minor": 0
      },
      "text/plain": [
       "Output()"
      ]
     },
     "metadata": {},
     "output_type": "display_data"
    }
   ],
   "source": [
    "display(out_alerts)"
   ]
  },
  {
   "cell_type": "markdown",
   "metadata": {},
   "source": [
    "#### Importante apagar los hilos!!!"
   ]
  },
  {
   "cell_type": "code",
   "execution_count": 15,
   "metadata": {},
   "outputs": [],
   "source": [
    "consumer_transactions.stop()\n",
    "consumer_alerts.stop()"
   ]
  },
  {
   "cell_type": "code",
   "execution_count": null,
   "metadata": {},
   "outputs": [],
   "source": []
  }
 ],
 "metadata": {
  "kernelspec": {
   "display_name": "Python 3",
   "language": "python",
   "name": "python3"
  },
  "language_info": {
   "codemirror_mode": {
    "name": "ipython",
    "version": 3
   },
   "file_extension": ".py",
   "mimetype": "text/x-python",
   "name": "python",
   "nbconvert_exporter": "python",
   "pygments_lexer": "ipython3",
   "version": "3.7.4"
  }
 },
 "nbformat": 4,
 "nbformat_minor": 2
}
