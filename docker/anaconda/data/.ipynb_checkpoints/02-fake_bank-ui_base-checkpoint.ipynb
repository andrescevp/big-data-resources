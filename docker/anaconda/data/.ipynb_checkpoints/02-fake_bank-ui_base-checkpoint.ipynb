{
 "cells": [
  {
   "cell_type": "markdown",
   "metadata": {},
   "source": [
    "# MBIT School\n",
    "\n",
    "## Master Big Data Cloud y Analytics\n",
    "\n",
    "---\n",
    "\n",
    "## Módulo 2: Ecosistema Spark\n",
    "## Submódulo DC02: Ecosistema Spark\n",
    "\n",
    "---\n",
    "\n",
    "### Taller Spark + Kafka: Interfaz de usuario (base/productor)\n",
    "\n",
    "#### Jacinto Arias (arias.jacinto@gmail.com)\n",
    "\n",
    "---\n"
   ]
  },
  {
   "cell_type": "markdown",
   "metadata": {},
   "source": [
    "En esta libreta implementaremos un pequeño prototipo de interfaz que envie mensajes al stream. Modelaremos para ello las transacciones de una cuenta bancaria, donde un usuario podrá depositar o retirar cantidades."
   ]
  },
  {
   "cell_type": "markdown",
   "metadata": {},
   "source": [
    "#### Imports"
   ]
  },
  {
   "cell_type": "code",
   "execution_count": null,
   "metadata": {},
   "outputs": [],
   "source": [
    "# Python\n",
    "import json\n",
    "import datetime"
   ]
  },
  {
   "cell_type": "code",
   "execution_count": null,
   "metadata": {},
   "outputs": [],
   "source": [
    "# jupyter\n",
    "import ipywidgets as widgets\n",
    "from IPython.display import display, clear_output"
   ]
  },
  {
   "cell_type": "code",
   "execution_count": null,
   "metadata": {},
   "outputs": [],
   "source": [
    "# kafka\n",
    "from confluent_kafka import Producer"
   ]
  },
  {
   "cell_type": "markdown",
   "metadata": {},
   "source": [
    "#### Constantes"
   ]
  },
  {
   "cell_type": "code",
   "execution_count": null,
   "metadata": {},
   "outputs": [],
   "source": [
    "KAFKA_BOOTSTRAP_SERVERS = \"localhost:9092\""
   ]
  },
  {
   "cell_type": "code",
   "execution_count": null,
   "metadata": {},
   "outputs": [],
   "source": [
    "KAFKA_TOPIC_TRANSACTIONS = \"fake_bank.transactions\""
   ]
  },
  {
   "cell_type": "markdown",
   "metadata": {},
   "source": [
    "#### Productor"
   ]
  },
  {
   "cell_type": "code",
   "execution_count": null,
   "metadata": {},
   "outputs": [],
   "source": [
    "kafka_producer = Producer({\n",
    "    'bootstrap.servers': KAFKA_BOOTSTRAP_SERVERS\n",
    "})"
   ]
  },
  {
   "cell_type": "code",
   "execution_count": null,
   "metadata": {},
   "outputs": [],
   "source": [
    "def transaction(account, operation, amount):\n",
    "    kafka_producer.poll(0)\n",
    "    \n",
    "    data = {\n",
    "        \"account\": account,\n",
    "        \"timestamp\": datetime.datetime.timestamp(datetime.datetime.utcnow()),\n",
    "        \"operation\": operation,\n",
    "        \"amount\": amount\n",
    "    }\n",
    "    \n",
    "    payload = json.dumps(data).encode(\"utf-8\")\n",
    "    \n",
    "    kafka_producer.produce(KAFKA_TOPIC_TRANSACTIONS, payload)"
   ]
  },
  {
   "cell_type": "markdown",
   "metadata": {},
   "source": [
    "#### UI"
   ]
  },
  {
   "cell_type": "code",
   "execution_count": null,
   "metadata": {},
   "outputs": [],
   "source": [
    "# USER\n",
    "text_account = widgets.Text(\"account_name\")\n",
    "\n",
    "# DEPOSIT\n",
    "slider_deposit = widgets.IntSlider(value=10, min=10, max=100, step=10)\n",
    "button_deposit = widgets.Button(description=\"Deposit\")\n",
    "button_deposit.unobserve_all()\n",
    "button_deposit.on_click(lambda _: transaction(\n",
    "    account=text_account.value, operation=\"DEPOSIT\", amount=slider_deposit.value))\n",
    "\n",
    "# WITHDRAW\n",
    "slider_withdraw = widgets.IntSlider(value=10, min=10, max=100, step=10)\n",
    "button_withdraw = widgets.Button(description=\"Withdraw\")\n",
    "button_withdraw.unobserve_all()\n",
    "button_withdraw.on_click(lambda _: transaction(\n",
    "    account=text_account.value, operation=\"WITHDRAWAL\", amount=-slider_withdraw.value))"
   ]
  },
  {
   "cell_type": "code",
   "execution_count": null,
   "metadata": {},
   "outputs": [],
   "source": [
    "text_account"
   ]
  },
  {
   "cell_type": "code",
   "execution_count": null,
   "metadata": {},
   "outputs": [],
   "source": [
    "display(slider_deposit)\n",
    "display(button_deposit)"
   ]
  },
  {
   "cell_type": "code",
   "execution_count": null,
   "metadata": {},
   "outputs": [],
   "source": [
    "display(slider_withdraw)\n",
    "display(button_withdraw)"
   ]
  },
  {
   "cell_type": "code",
   "execution_count": null,
   "metadata": {},
   "outputs": [],
   "source": []
  }
 ],
 "metadata": {
  "kernelspec": {
   "display_name": "Python 3",
   "language": "python",
   "name": "python3"
  },
  "language_info": {
   "codemirror_mode": {
    "name": "ipython",
    "version": 3
   },
   "file_extension": ".py",
   "mimetype": "text/x-python",
   "name": "python",
   "nbconvert_exporter": "python",
   "pygments_lexer": "ipython3",
   "version": "3.6.7"
  }
 },
 "nbformat": 4,
 "nbformat_minor": 2
}
