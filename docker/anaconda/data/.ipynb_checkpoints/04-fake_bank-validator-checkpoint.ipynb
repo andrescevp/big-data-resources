{
 "cells": [
  {
   "cell_type": "markdown",
   "metadata": {},
   "source": [
    "# MBIT School\n",
    "\n",
    "## Master Big Data Cloud y Analytics\n",
    "\n",
    "---\n",
    "\n",
    "## Módulo 2: Ecosistema Spark\n",
    "## Submódulo DC02: Ecosistema Spark\n",
    "\n",
    "---\n",
    "\n",
    "### Taller Spark + Kafka: Validador\n",
    "\n",
    "#### Jacinto Arias (arias.jacinto@gmail.com)\n",
    "\n",
    "---\n"
   ]
  },
  {
   "cell_type": "markdown",
   "metadata": {},
   "source": [
    "Esta libreta implementa un consumidor/productor que aplica un \"algoritmo de predicción de fraude\" y clasifica las transaciones. Una vez clasificadas las transacciones son enviadas a distintos topics."
   ]
  },
  {
   "cell_type": "markdown",
   "metadata": {},
   "source": [
    "#### Imports"
   ]
  },
  {
   "cell_type": "code",
   "execution_count": 1,
   "metadata": {},
   "outputs": [],
   "source": [
    "# python\n",
    "from collections import defaultdict\n",
    "import json"
   ]
  },
  {
   "cell_type": "code",
   "execution_count": 2,
   "metadata": {},
   "outputs": [],
   "source": [
    "# jupyter\n",
    "import ipywidgets as widgets\n",
    "from IPython.display import display, clear_output"
   ]
  },
  {
   "cell_type": "code",
   "execution_count": 3,
   "metadata": {},
   "outputs": [],
   "source": [
    "# kafka\n",
    "from confluent_kafka import Producer, Consumer"
   ]
  },
  {
   "cell_type": "markdown",
   "metadata": {},
   "source": [
    "#### Constantes"
   ]
  },
  {
   "cell_type": "code",
   "execution_count": 1,
   "metadata": {},
   "outputs": [],
   "source": [
    "KAFKA_BOOTSTRAP_SERVERS = \"localhost:9092\""
   ]
  },
  {
   "cell_type": "code",
   "execution_count": 5,
   "metadata": {},
   "outputs": [],
   "source": [
    "KAFKA_CONSUMER_GROUP = \"fake_bank.fraud_detector\"\n",
    "KAFKA_TOPIC_TRANSACTIONS = \"fake_bank.transactions\"\n",
    "KAFKA_TOPIC_TRANSACTIONS_VALIDATED = \"fake_bank.transactions_validated\"\n",
    "KAFKA_TOPIC_ALERTS = \"fake_bank.alerts\""
   ]
  },
  {
   "cell_type": "markdown",
   "metadata": {},
   "source": [
    "#### \"Algoritmo de Prediccion\""
   ]
  },
  {
   "cell_type": "code",
   "execution_count": 6,
   "metadata": {},
   "outputs": [],
   "source": [
    "import random"
   ]
  },
  {
   "cell_type": "code",
   "execution_count": 7,
   "metadata": {},
   "outputs": [],
   "source": [
    "def predict(transaction):\n",
    "    return random.randint(0, 1) == 0"
   ]
  },
  {
   "cell_type": "markdown",
   "metadata": {},
   "source": [
    "#### Consumidor + Productor"
   ]
  },
  {
   "cell_type": "code",
   "execution_count": 8,
   "metadata": {},
   "outputs": [],
   "source": [
    "kafka_consumer = Consumer({\n",
    "    'bootstrap.servers': KAFKA_BOOTSTRAP_SERVERS,\n",
    "    'group.id': KAFKA_CONSUMER_GROUP\n",
    "})\n",
    "\n",
    "kafka_producer = Producer({\n",
    "    'bootstrap.servers': KAFKA_BOOTSTRAP_SERVERS\n",
    "})"
   ]
  },
  {
   "cell_type": "code",
   "execution_count": null,
   "metadata": {},
   "outputs": [
    {
     "name": "stdout",
     "output_type": "stream",
     "text": [
      "alguien se ha equivocado\n"
     ]
    }
   ],
   "source": [
    "kafka_consumer.subscribe([KAFKA_TOPIC_TRANSACTIONS])\n",
    "\n",
    "while True:\n",
    "    try:\n",
    "        transaction = kafka_consumer.poll(1.0)\n",
    "\n",
    "        if transaction is None:\n",
    "            continue\n",
    "\n",
    "        payload = transaction.value().decode('utf-8')\n",
    "        data = json.loads(payload)\n",
    "\n",
    "        fraud = predict(data)\n",
    "\n",
    "        if fraud:\n",
    "            alert = {\n",
    "                \"transaction_id\": data[\"transaction_id\"],\n",
    "                \"account\": data[\"account\"],\n",
    "                \"alert\": \"FRAUD\"\n",
    "            }\n",
    "\n",
    "            payload = json.dumps(alert).encode(\"utf-8\")\n",
    "            kafka_producer.produce(KAFKA_TOPIC_ALERTS, payload)\n",
    "\n",
    "        else:\n",
    "            payload = json.dumps(data).encode(\"utf-8\")\n",
    "            kafka_producer.produce(KAFKA_TOPIC_TRANSACTIONS_VALIDATED, payload)\n",
    "            \n",
    "    except:\n",
    "        print(\"alguien se ha equivocado\")\n",
    "        \n",
    "kafka_consumer.close()"
   ]
  },
  {
   "cell_type": "code",
   "execution_count": null,
   "metadata": {},
   "outputs": [],
   "source": []
  }
 ],
 "metadata": {
  "kernelspec": {
   "display_name": "Python 3",
   "language": "python",
   "name": "python3"
  },
  "language_info": {
   "codemirror_mode": {
    "name": "ipython",
    "version": 3
   },
   "file_extension": ".py",
   "mimetype": "text/x-python",
   "name": "python",
   "nbconvert_exporter": "python",
   "pygments_lexer": "ipython3",
   "version": "3.6.7"
  }
 },
 "nbformat": 4,
 "nbformat_minor": 2
}
