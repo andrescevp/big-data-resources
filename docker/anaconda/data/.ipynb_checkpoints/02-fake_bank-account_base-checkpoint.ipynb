{
 "cells": [
  {
   "cell_type": "markdown",
   "metadata": {},
   "source": [
    "# MBIT School\n",
    "\n",
    "## Master Big Data Cloud y Analytics\n",
    "\n",
    "---\n",
    "\n",
    "## Módulo 2: Ecosistema Spark\n",
    "## Submódulo DC02: Ecosistema Spark\n",
    "\n",
    "---\n",
    "\n",
    "### Taller Spark + Kafka: Gestor de cuentas (base/consumidor)\n",
    "\n",
    "#### Jacinto Arias (arias.jacinto@gmail.com)\n",
    "\n",
    "---\n"
   ]
  },
  {
   "cell_type": "markdown",
   "metadata": {},
   "source": [
    "En esta libreta implementaremos un proceso consumidor de kafka que procesará los mensajes del stream y mantendrá actualizada el estado de una \"supuesta base de datos\" con los totales de la cuenta conforme hayamos procesado los mensajes."
   ]
  },
  {
   "cell_type": "markdown",
   "metadata": {},
   "source": [
    "#### Imports"
   ]
  },
  {
   "cell_type": "code",
   "execution_count": null,
   "metadata": {},
   "outputs": [],
   "source": [
    "# python\n",
    "from collections import defaultdict\n",
    "import json"
   ]
  },
  {
   "cell_type": "code",
   "execution_count": null,
   "metadata": {},
   "outputs": [],
   "source": [
    "# jupyter\n",
    "import ipywidgets as widgets\n",
    "from IPython.display import display, clear_output"
   ]
  },
  {
   "cell_type": "code",
   "execution_count": null,
   "metadata": {},
   "outputs": [],
   "source": [
    "# kafka\n",
    "from confluent_kafka import Consumer"
   ]
  },
  {
   "cell_type": "markdown",
   "metadata": {},
   "source": [
    "#### Constantes"
   ]
  },
  {
   "cell_type": "code",
   "execution_count": null,
   "metadata": {},
   "outputs": [],
   "source": [
    "KAFKA_BOOTSTRAP_SERVERS = \"localhost:9092\""
   ]
  },
  {
   "cell_type": "code",
   "execution_count": null,
   "metadata": {},
   "outputs": [],
   "source": [
    "KAFKA_CONSUMER_GROUP = \"fake_bank.account_manager\"\n",
    "KAFKA_TOPIC_TRANSACTIONS = \"fake_bank.transactions\""
   ]
  },
  {
   "cell_type": "markdown",
   "metadata": {},
   "source": [
    "#### Consumidor "
   ]
  },
  {
   "cell_type": "markdown",
   "metadata": {},
   "source": [
    "El consumidor deberá:\n",
    "\n",
    "- Para cada mensaje:\n",
    "    - Leer la siguiente transacción\n",
    "    - Obtener el valor de la transacción (está en json así que debemos deserializarlo)\n",
    "    - Actualizar el diccionario de cuentas con el resultado total\n",
    "    - Mostrar la última versión del diccionario"
   ]
  },
  {
   "cell_type": "code",
   "execution_count": null,
   "metadata": {},
   "outputs": [],
   "source": [
    "kafka_consumer = Consumer({\n",
    "    'bootstrap.servers': KAFKA_BOOTSTRAP_SERVERS,\n",
    "    'group.id': KAFKA_CONSUMER_GROUP\n",
    "})\n",
    "\n",
    "account_db = defaultdict(int)\n",
    "\n",
    "kafka_consumer.subscribe([KAFKA_TOPIC_TRANSACTIONS])\n",
    "\n",
    "while True:\n",
    "\n",
    "    transaction = kafka_consumer.poll(1.0)\n",
    "\n",
    "    if transaction is None:\n",
    "        continue\n",
    "\n",
    "    ???\n",
    "\n",
    "kafka_consumer.close()"
   ]
  },
  {
   "cell_type": "code",
   "execution_count": null,
   "metadata": {},
   "outputs": [],
   "source": []
  }
 ],
 "metadata": {
  "kernelspec": {
   "display_name": "Python 3",
   "language": "python",
   "name": "python3"
  },
  "language_info": {
   "codemirror_mode": {
    "name": "ipython",
    "version": 3
   },
   "file_extension": ".py",
   "mimetype": "text/x-python",
   "name": "python",
   "nbconvert_exporter": "python",
   "pygments_lexer": "ipython3",
   "version": "3.6.7"
  }
 },
 "nbformat": 4,
 "nbformat_minor": 2
}
